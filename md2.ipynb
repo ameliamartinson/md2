{
 "cells": [
  {
   "cell_type": "markdown",
   "id": "e2cd0ade-117d-4734-8322-646d264dd250",
   "metadata": {},
   "source": [
    "# MD2 in Rust\n",
    "\n",
    "Today we're gonna go over writing the MD2 hash in rust.\n",
    "\n",
    "The paper for this hash is [This RFC](https://www.rfc-editor.org/rfc/pdfrfc/rfc1319.txt.pdf)\n",
    "And is not possible without the [errata](https://www.rfc-editor.org/rfc/inline-errata/rfc1319.html)"
   ]
  },
  {
   "cell_type": "markdown",
   "id": "6af106fe-3f47-497d-8b99-ecf6cc85e31c",
   "metadata": {},
   "source": [
    "- First we import the library we need"
   ]
  },
  {
   "cell_type": "code",
   "execution_count": 39,
   "id": "465a8ddf-687b-47ae-98df-424ec33b4158",
   "metadata": {},
   "outputs": [],
   "source": [
    "use std::io::{self,Read};\n",
    "extern crate hex;"
   ]
  },
  {
   "cell_type": "markdown",
   "id": "53edc250-3904-419b-98af-f723542ae6d1",
   "metadata": {},
   "source": [
    "Now we add the add the S Table, which uses the digits of PI as a sort of random number generator."
   ]
  },
  {
   "cell_type": "code",
   "execution_count": 40,
   "id": "43b2ef6d-d046-490d-8ce6-f60921d18da9",
   "metadata": {},
   "outputs": [],
   "source": [
    "const S_TABLE: [u8; 256] = [\n",
    "    0x29, 0x2E, 0x43, 0xC9, 0xA2, 0xD8, 0x7C, 0x01, 0x3D, 0x36, 0x54, 0xA1, 0xEC, 0xF0, 0x06, 0x13,\n",
    "    0x62, 0xA7, 0x05, 0xF3, 0xC0, 0xC7, 0x73, 0x8C, 0x98, 0x93, 0x2B, 0xD9, 0xBC, 0x4C, 0x82, 0xCA,\n",
    "    0x1E, 0x9B, 0x57, 0x3C, 0xFD, 0xD4, 0xE0, 0x16, 0x67, 0x42, 0x6F, 0x18, 0x8A, 0x17, 0xE5, 0x12,\n",
    "    0xBE, 0x4E, 0xC4, 0xD6, 0xDA, 0x9E, 0xDE, 0x49, 0xA0, 0xFB, 0xF5, 0x8E, 0xBB, 0x2F, 0xEE, 0x7A,\n",
    "    0xA9, 0x68, 0x79, 0x91, 0x15, 0xB2, 0x07, 0x3F, 0x94, 0xC2, 0x10, 0x89, 0x0B, 0x22, 0x5F, 0x21,\n",
    "    0x80, 0x7F, 0x5D, 0x9A, 0x5A, 0x90, 0x32, 0x27, 0x35, 0x3E, 0xCC, 0xE7, 0xBF, 0xF7, 0x97, 0x03,\n",
    "    0xFF, 0x19, 0x30, 0xB3, 0x48, 0xA5, 0xB5, 0xD1, 0xD7, 0x5E, 0x92, 0x2A, 0xAC, 0x56, 0xAA, 0xC6,\n",
    "    0x4F, 0xB8, 0x38, 0xD2, 0x96, 0xA4, 0x7D, 0xB6, 0x76, 0xFC, 0x6B, 0xE2, 0x9C, 0x74, 0x04, 0xF1,\n",
    "    0x45, 0x9D, 0x70, 0x59, 0x64, 0x71, 0x87, 0x20, 0x86, 0x5B, 0xCF, 0x65, 0xE6, 0x2D, 0xA8, 0x02,\n",
    "    0x1B, 0x60, 0x25, 0xAD, 0xAE, 0xB0, 0xB9, 0xF6, 0x1C, 0x46, 0x61, 0x69, 0x34, 0x40, 0x7E, 0x0F,\n",
    "    0x55, 0x47, 0xA3, 0x23, 0xDD, 0x51, 0xAF, 0x3A, 0xC3, 0x5C, 0xF9, 0xCE, 0xBA, 0xC5, 0xEA, 0x26,\n",
    "    0x2C, 0x53, 0x0D, 0x6E, 0x85, 0x28, 0x84, 0x09, 0xD3, 0xDF, 0xCD, 0xF4, 0x41, 0x81, 0x4D, 0x52,\n",
    "    0x6A, 0xDC, 0x37, 0xC8, 0x6C, 0xC1, 0xAB, 0xFA, 0x24, 0xE1, 0x7B, 0x08, 0x0C, 0xBD, 0xB1, 0x4A,\n",
    "    0x78, 0x88, 0x95, 0x8B, 0xE3, 0x63, 0xE8, 0x6D, 0xE9, 0xCB, 0xD5, 0xFE, 0x3B, 0x00, 0x1D, 0x39,\n",
    "    0xF2, 0xEF, 0xB7, 0x0E, 0x66, 0x58, 0xD0, 0xE4, 0xA6, 0x77, 0x72, 0xF8, 0xEB, 0x75, 0x4B, 0x0A,\n",
    "    0x31, 0x44, 0x50, 0xB4, 0x8F, 0xED, 0x1F, 0x1A, 0xDB, 0x99, 0x8D, 0x33, 0x9F, 0x11, 0x83, 0x14,\n",
    "];"
   ]
  },
  {
   "cell_type": "markdown",
   "id": "6c0c3c59-6ed4-44bc-a123-2a34e8c59447",
   "metadata": {},
   "source": [
    "First we initialize the data we will hash"
   ]
  },
  {
   "cell_type": "code",
   "execution_count": 41,
   "id": "11ed26a4-0ea9-444f-9bbb-c20111f31cab",
   "metadata": {},
   "outputs": [],
   "source": [
    "let to_hash = \"message digest\".to_string().into_bytes();"
   ]
  },
  {
   "cell_type": "markdown",
   "id": "288593e3-760c-461e-b327-c6d6d1f64bfa",
   "metadata": {},
   "source": [
    "Now let's make a mutable copy of this, and call it \"data.\" We need this copy to be mutable."
   ]
  },
  {
   "cell_type": "code",
   "execution_count": 42,
   "id": "976aaad5-fcb8-487e-a880-e86f2685f40b",
   "metadata": {},
   "outputs": [],
   "source": [
    "let mut data = to_hash.clone();"
   ]
  },
  {
   "cell_type": "markdown",
   "id": "c095e64f-5b2f-466d-9f15-d1ed8dc46a41",
   "metadata": {},
   "source": [
    "### 3.1 Step 1. Append Padding Bytes\n",
    "\n",
    "In the next step, we need to add padding bytes to the end of the data, so that the data hash a length that is a multiple of 16 bytes.\n",
    "\n",
    "The RFC1319 requires that there be \"*i* bytes of value *i*\"\n",
    "\n",
    "First we calculate the number of padding bytes required:"
   ]
  },
  {
   "cell_type": "code",
   "execution_count": 43,
   "id": "b94221ac-2a96-4f57-a8d2-729e461489a1",
   "metadata": {},
   "outputs": [],
   "source": [
    "let padding_bytes = 16 - data.len() % 16;"
   ]
  },
  {
   "cell_type": "markdown",
   "id": "a3a5be39-8c83-48fc-8b33-4b6fac8333e5",
   "metadata": {},
   "source": [
    "Next, we form the vector that we will append to the data:"
   ]
  },
  {
   "cell_type": "code",
   "execution_count": 44,
   "id": "fc4dc726-8b71-48b3-b291-934e1155496a",
   "metadata": {},
   "outputs": [],
   "source": [
    "let mut padding = vec![padding_bytes as u8; padding_bytes];"
   ]
  },
  {
   "cell_type": "markdown",
   "id": "66534200-763b-4d73-b044-a4d001a2c1a4",
   "metadata": {},
   "source": [
    "Finally we append:"
   ]
  },
  {
   "cell_type": "code",
   "execution_count": 45,
   "id": "9ce2a6eb-d4bf-43d5-8729-02afa53c5172",
   "metadata": {},
   "outputs": [],
   "source": [
    "data.append(&mut padding);"
   ]
  },
  {
   "cell_type": "markdown",
   "id": "85ea5d99-72fd-4cb7-9e71-f67fcc34b9dc",
   "metadata": {},
   "source": [
    "### 3.2 Step 2. Append Checksum\n",
    "\n",
    "We now add 16 checksum bytes to the end of the data that we have produced thus far.\n",
    "The formula is outlined in pseudocode in RFC1319 as follows:\n",
    "\n",
    "```\n",
    "/* Clear checksum. */\n",
    "For i = 0 to 15 do:\n",
    "    Set C[i] to 0.\n",
    "end /* of loop on i */\n",
    "\n",
    "Set L to 0.\n",
    "\n",
    "/* Process each 16-word block. */\n",
    "For i = 0 to N/16-1 do\n",
    "\n",
    "/* Checksum block i. */\n",
    "    For j = 0 to 15 do\n",
    "        Set c to M[i*16+j].\n",
    "        INCORRECT, CORRECTED BY ERRATA: Set C[j] to S[c xor L].\n",
    "        Set C[j] to C[j] xor S[c xor L].\n",
    "        Set L to C[j].\n",
    "    end /* of loop on j */\n",
    "end /* of loop on i */\n",
    "```\n",
    "\n",
    "The array S referenced above is the S_TABLE we initialized earlier.\n",
    "\n",
    "Let's begin by initializing a 16 bit vector with zeroes for our checksum, this takes care of the Clear checksum step. "
   ]
  },
  {
   "cell_type": "code",
   "execution_count": 46,
   "id": "ad0a02c1-9c2e-42fa-b0da-52c9f33577e3",
   "metadata": {},
   "outputs": [],
   "source": [
    "let mut cs = vec![0_u8; 16];"
   ]
  },
  {
   "cell_type": "markdown",
   "id": "0f1061f1-a5c3-4035-98d2-704f6c64e0eb",
   "metadata": {},
   "source": [
    "Set l to 0:"
   ]
  },
  {
   "cell_type": "code",
   "execution_count": 47,
   "id": "f1747895-e04b-48ea-ab97-f810ed130d11",
   "metadata": {},
   "outputs": [],
   "source": [
    "let mut l = 0_u8;"
   ]
  },
  {
   "cell_type": "markdown",
   "id": "7f4277a9-2f96-4e36-8b08-b6480caf2e0c",
   "metadata": {},
   "source": [
    "Let n be the length of our data:"
   ]
  },
  {
   "cell_type": "code",
   "execution_count": 48,
   "id": "f3763cf7-9845-450b-a334-4a19b6bf92ad",
   "metadata": {},
   "outputs": [],
   "source": [
    "let n = data.len();"
   ]
  },
  {
   "cell_type": "markdown",
   "id": "36e92c58-cdce-4cf6-a00d-11c586914a51",
   "metadata": {},
   "source": [
    "Then, we will loop over each 16 word block in the data, performing the previously outlined computation."
   ]
  },
  {
   "cell_type": "code",
   "execution_count": 49,
   "id": "55ffd471-28f5-4d14-abdc-90038d0c3007",
   "metadata": {},
   "outputs": [
    {
     "data": {
      "text/plain": [
       "()"
      ]
     },
     "execution_count": 49,
     "metadata": {},
     "output_type": "execute_result"
    }
   ],
   "source": [
    "for i in 0..(n / 16) {\n",
    "    for j in 0..16 {\n",
    "        let c = data[i * 16 + j];\n",
    "        cs[j] ^= S_TABLE[(c ^ l) as usize];\n",
    "        l = cs[j];\n",
    "    }\n",
    "}"
   ]
  },
  {
   "cell_type": "markdown",
   "id": "f215f2e2-0e12-4ad1-a467-12202cd0b1e5",
   "metadata": {},
   "source": [
    "Then, we append the checksum."
   ]
  },
  {
   "cell_type": "code",
   "execution_count": 50,
   "id": "f0ebe0c9-c1d0-46b8-b424-b13fdf29d391",
   "metadata": {},
   "outputs": [],
   "source": [
    "data.append(&mut cs);"
   ]
  },
  {
   "cell_type": "markdown",
   "id": "bfe498df-a6f4-4c33-a1ba-20cc88d86c90",
   "metadata": {},
   "source": [
    "### 3.3 Step 3. Initialize MD Buffer\n",
    "\n",
    "The RFC reads \"A 48-byte buffer X is used to compute the message digest. The buffer\n",
    "is initialized to zero\"\n",
    "\n",
    "This is done simply:"
   ]
  },
  {
   "cell_type": "code",
   "execution_count": 51,
   "id": "7d8a1dbc-5970-464b-8da2-a9a0f1946667",
   "metadata": {},
   "outputs": [],
   "source": [
    "let mut x = [0_u8;48];"
   ]
  },
  {
   "cell_type": "markdown",
   "id": "f36ebdcc-9386-4596-b56a-72e2bf361722",
   "metadata": {},
   "source": [
    "### 3.4 Step 4. Process Message in 16-Byte Blocks\n",
    "\n",
    "The Pseudocode reads as such:\n",
    "\n",
    "```\n",
    "/* Process each 16-word block. */\n",
    "For i = 0 to N’/16-1 do\n",
    "\n",
    "    /* Copy block i into X. */\n",
    "    For j = 0 to 15 do\n",
    "        Set X[16+j] to M[i*16+j].\n",
    "        Set X[32+j] to (X[16+j] xor X[j]).\n",
    "    end /* of loop on j */\n",
    "\n",
    "    Set t to 0.\n",
    "    /* Do 18 rounds. */\n",
    "    For j = 0 to 17 do\n",
    "        /* Round j. */\n",
    "        For k = 0 to 47 do\n",
    "            Set t and X[k] to (X[k] xor S[t]).\n",
    "        end /* of loop on k */\n",
    "\n",
    "        Set t to (t+j) modulo 256.\n",
    "    end /* of loop on j */\n",
    "end /* of loop on i */\n",
    "```"
   ]
  },
  {
   "cell_type": "markdown",
   "id": "9152f8cd-4e86-4a75-a66c-4a684dd300f5",
   "metadata": {},
   "source": [
    "This is done as so. I am also reinitializing the n variable for the new length."
   ]
  },
  {
   "cell_type": "code",
   "execution_count": 52,
   "id": "716ec1f6-212f-4e68-b304-c35fd6fcf8e5",
   "metadata": {},
   "outputs": [
    {
     "data": {
      "text/plain": [
       "()"
      ]
     },
     "execution_count": 52,
     "metadata": {},
     "output_type": "execute_result"
    }
   ],
   "source": [
    "let n = data.len();\n",
    "for i in 0..(n / 16) {\n",
    "    for j in 0..16 {\n",
    "        x[16 + j] = data[i * 16 + j];\n",
    "        x[32 + j] = x[16 + j] ^ x[j];\n",
    "    }\n",
    "\n",
    "    let mut t = 0_u8;\n",
    "\n",
    "    for j in 0..18 {\n",
    "        for k in 0..48 {\n",
    "            x[k] ^= S_TABLE[t as usize];\n",
    "            t = x[k];\n",
    "        }\n",
    "        t = ((t as u16 + j as u16) % 256) as u8;\n",
    "    }\n",
    "}"
   ]
  },
  {
   "cell_type": "markdown",
   "id": "3379d5eb-1ba1-4772-947e-2e1298a4c4d4",
   "metadata": {},
   "source": [
    "### 3.5 Step 5. Output\n",
    "\n",
    "The mesage digest are the first sixteen bytes of the resulting array x. However, for readablility we will encode it to hex and return as a string."
   ]
  },
  {
   "cell_type": "code",
   "execution_count": 53,
   "id": "34091a12-c81a-4921-8bd6-4b2afb706716",
   "metadata": {},
   "outputs": [
    {
     "name": "stdout",
     "output_type": "stream",
     "text": [
      "ab4f496bfb2a530b219ff33031fe06b0\n"
     ]
    },
    {
     "data": {
      "text/plain": [
       "()"
      ]
     },
     "execution_count": 53,
     "metadata": {},
     "output_type": "execute_result"
    }
   ],
   "source": [
    "{\n",
    "    let digest = &x[0..16];\n",
    "    let hash_str = hex::encode(digest);\n",
    "    println!(\"{}\",hash_str);\n",
    "}"
   ]
  },
  {
   "cell_type": "code",
   "execution_count": null,
   "id": "9697d3e0-90ad-4a0b-9739-fbbb1ad8e635",
   "metadata": {},
   "outputs": [],
   "source": []
  }
 ],
 "metadata": {
  "kernelspec": {
   "display_name": "Rust",
   "language": "rust",
   "name": "rust"
  },
  "language_info": {
   "codemirror_mode": "rust",
   "file_extension": ".rs",
   "mimetype": "text/rust",
   "name": "Rust",
   "pygment_lexer": "rust",
   "version": ""
  }
 },
 "nbformat": 4,
 "nbformat_minor": 5
}
